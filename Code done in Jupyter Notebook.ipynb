{
 "cells": [
  {
   "cell_type": "code",
   "execution_count": null,
   "metadata": {},
   "outputs": [],
   "source": [
    "from pandas import DataFrame\n",
    "chart_info = open(\"Hot Stuff.csv\", \"r\")\n",
    "chart_info = chart_info.readlines()\n",
    "\n",
    "\n"
   ]
  },
  {
   "cell_type": "code",
   "execution_count": null,
   "metadata": {},
   "outputs": [],
   "source": [
    "chart_dict = {}\n",
    "recent_chart = []\n",
    "user_input = input(\"Enter which artist you would like to see (Please use correct spelling and capitialization): \") \n",
    "def guess_artist(user_input):\n",
    "    for info in chart_info:\n",
    "        if user_input in info:\n",
    "            recent_chart.append(info)\n",
    "    for line in recent_chart:\n",
    "        row_line= line.split(\",\")\n",
    "        artist_name = row_line[4]\n",
    "        song_name = row_line[3]\n",
    "        chart_dict[song_name] = artist_name\n",
    "    df = DataFrame(list(chart_dict.items()),columns = ['Song Name','Artist'])\n",
    "    print(df)\n",
    "guess_artist(user_input)\n"
   ]
  },
  {
   "cell_type": "code",
   "execution_count": null,
   "metadata": {},
   "outputs": [],
   "source": []
  },
  {
   "cell_type": "code",
   "execution_count": null,
   "metadata": {},
   "outputs": [],
   "source": []
  },
  {
   "cell_type": "code",
   "execution_count": null,
   "metadata": {},
   "outputs": [],
   "source": []
  }
 ],
 "metadata": {
  "kernelspec": {
   "display_name": "Python 3",
   "language": "python",
   "name": "python3"
  },
  "language_info": {
   "codemirror_mode": {
    "name": "ipython",
    "version": 3
   },
   "file_extension": ".py",
   "mimetype": "text/x-python",
   "name": "python",
   "nbconvert_exporter": "python",
   "pygments_lexer": "ipython3",
   "version": "3.7.4"
  }
 },
 "nbformat": 4,
 "nbformat_minor": 2
}
